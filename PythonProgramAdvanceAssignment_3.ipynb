{
 "cells": [
  {
   "cell_type": "markdown",
   "id": "ff59777d",
   "metadata": {},
   "source": [
    "1. Create a function to perform basic arithmetic operations that includes addition, subtraction, multiplication and division on a string number (e.g. \"12 + 24\" or \"23 - 21\" or \"12 // 12\"or\"12 * 21\"). Here, we have 1 followed by a space, operator followed by another space and 2. For the challenge, we are going to have only two numbers between 1 valid operator. The return value should be a number. eval() is not allowed. In case of division, whenever the second number equals \"0\" return -1.\n",
    "For example:\n",
    "\"15 // 0\" ➞ -1"
   ]
  },
  {
   "cell_type": "code",
   "execution_count": 1,
   "id": "3c11d34a",
   "metadata": {},
   "outputs": [
    {
     "name": "stdout",
     "output_type": "stream",
     "text": [
      "36\n"
     ]
    }
   ],
   "source": [
    "def basic_arithmetic(operation):\n",
    "    # Split the operation string into two numbers and the operator\n",
    "    num1, operator, num2 = operation.split()\n",
    "    \n",
    "    # Convert the numbers from strings to integers\n",
    "    num1 = int(num1)\n",
    "    num2 = int(num2)\n",
    "    \n",
    "    # Check the operator and perform the appropriate operation\n",
    "    if operator == \"+\":\n",
    "        return num1 + num2\n",
    "    elif operator == \"-\":\n",
    "        return num1 - num2\n",
    "    elif operator == \"*\":\n",
    "        return num1 * num2\n",
    "    elif operator == \"//\":\n",
    "        # Return -1 if the second number is 0 (division by 0 is not allowed)\n",
    "        if num2 == 0:\n",
    "            return -1\n",
    "        else:\n",
    "            return num1 // num2\n",
    "result = basic_arithmetic(\"12 + 24\")\n",
    "print(result) "
   ]
  },
  {
   "cell_type": "markdown",
   "id": "0575e1c3",
   "metadata": {},
   "source": [
    "2. Write a function that takes the coordinates of three points in the form of a\n",
    "2d array and returns the perimeter of the triangle. The given points are the\n",
    "vertices of a triangle on a two-dimensional plane.\n",
    "Examples\n",
    "perimeter( [ [15, 7], [5, 22], [11, 1] ] ) ➞ 47.08\n",
    "perimeter( [ [0, 0], [0, 1], [1, 0] ] ) ➞ 3.42\n",
    "perimeter( [ [-10, -10], [10, 10 ], [-10, 10] ] ) ➞ 68.28"
   ]
  },
  {
   "cell_type": "code",
   "execution_count": 2,
   "id": "1e57350a",
   "metadata": {},
   "outputs": [
    {
     "name": "stdout",
     "output_type": "stream",
     "text": [
      "47.07918859608948\n",
      "3.414213562373095\n",
      "68.2842712474619\n"
     ]
    }
   ],
   "source": [
    "import math\n",
    "\n",
    "def perimeter(coordinates):\n",
    "  distance_1 = math.sqrt((coordinates[0][0] - coordinates[1][0])**2 + (coordinates[0][1] - coordinates[1][1])**2)\n",
    "  distance_2 = math.sqrt((coordinates[1][0] - coordinates[2][0])**2 + (coordinates[1][1] - coordinates[2][1])**2)\n",
    "  distance_3 = math.sqrt((coordinates[2][0] - coordinates[0][0])**2 + (coordinates[2][1] - coordinates[0][1])**2)\n",
    "  return distance_1 + distance_2 + distance_3\n",
    "\n",
    "print(perimeter([ [15, 7], [5, 22], [11, 1] ]))\n",
    "print(perimeter([ [0, 0], [0, 1], [1, 0] ]))\n",
    "print(perimeter([ [-10, -10], [10, 10 ], [-10, 10] ]))\n"
   ]
  },
  {
   "cell_type": "markdown",
   "id": "085f774b",
   "metadata": {},
   "source": [
    "3. A city skyline can be represented as a 2-D list with 1s representing buildings. In the example below, the height of the tallest building is 4 (second- most right column).\n",
    "[[0, 0, 0, 0, 0, 0],\n",
    "[0, 0, 0, 0, 1, 0],\n",
    "[0, 0, 1, 0, 1, 0],\n",
    "[0, 1, 1, 1, 1, 0],\n",
    "\n",
    "[1, 1, 1, 1, 1, 1]]\n",
    "Create a function that takes a skyline (2-D list of 0's and 1's) and returns the height of the tallest skyscraper."
   ]
  },
  {
   "cell_type": "code",
   "execution_count": 4,
   "id": "380cf4e8",
   "metadata": {},
   "outputs": [
    {
     "name": "stdout",
     "output_type": "stream",
     "text": [
      "6\n"
     ]
    }
   ],
   "source": [
    "def tallest_building(skyline):\n",
    "  max_height = 0\n",
    "  for column in skyline:\n",
    "    current_height = sum(column)\n",
    "    if current_height > max_height:\n",
    "      max_height = current_height\n",
    "  return max_height\n",
    "skyline = [[0, 0, 0, 0, 0, 0],\n",
    "           [0, 0, 0, 0, 1, 0],\n",
    "           [0, 0, 1, 0, 1, 0],\n",
    "           [0, 1, 1, 1, 1, 0],\n",
    "           [1, 1, 1, 1, 1, 1]]\n",
    "print(tallest_building(skyline)) "
   ]
  },
  {
   "cell_type": "markdown",
   "id": "e52c1d11",
   "metadata": {},
   "source": [
    "4. A financial institution provides professional services to banks and claims charges from the customers based on the number of man-days provided. Internally, it has set a scheme to motivate and reward staff to meet and exceed targeted billable utilization and revenues by paying a bonus for each day claimed from customers in excess of a threshold target. This quarterly scheme is calculated with a threshold target of 32 days per quarter, and the incentive payment for each billable day in excess of such threshold target is shown as follows:\n",
    "Days Bonus\n",
    "0 to 32 days Zero\n",
    "33 to 40 days SGD$325 per billable day\n",
    "41 to 48 days SGD$550 per billable day\n",
    "Greater than 48 days SGD$600 per billable day\n",
    "\n",
    "Please note that incentive payment is calculated progressively. As an\n",
    "example, if an employee reached total billable days of 45 in a quarter, his/her\n",
    "incentive payment is computed as follows:\n",
    "32*0 + 8*325 + 5*550 = 5350\n",
    "Write a function to read the billable days of an employee and return the bonus\n",
    "he/she has obtained in that quarter.\n",
    "Examples\n",
    "bonus(15) ➞ 0\n",
    "bonus(37) ➞ 1625\n",
    "bonus(50) ➞ 8200"
   ]
  },
  {
   "cell_type": "code",
   "execution_count": 5,
   "id": "1206a654",
   "metadata": {},
   "outputs": [
    {
     "name": "stdout",
     "output_type": "stream",
     "text": [
      "0\n",
      "1625\n",
      "8200\n"
     ]
    }
   ],
   "source": [
    "def bonus(days):\n",
    "    if days <= 32:\n",
    "        return 0\n",
    "    elif days <= 40:\n",
    "        return (days - 32) * 325\n",
    "    elif days <= 48:\n",
    "        return (8 * 325) + (days - 40) * 550\n",
    "    else:\n",
    "        return (8 * 325) + (8 * 550) + (days - 48) * 600\n",
    "\n",
    "print(bonus(15))\n",
    "print(bonus(37))\n",
    "print(bonus(50))\n"
   ]
  },
  {
   "cell_type": "markdown",
   "id": "c95d2a80",
   "metadata": {},
   "source": [
    "5. A number is said to be Disarium if the sum of its digits raised to their respective positions is the number itself.\n",
    "Create a function that determines whether a number is a Disarium or not.\n",
    "Examples\n",
    "is_disarium(75) ➞ False\n",
    "#7^1 + 5^2 = 7 + 25 = 32\n",
    "is_disarium(135) ➞ True\n",
    "#1^1 + 3^2 + 5^3 = 1 + 9 + 125 = 135\n",
    "is_disarium(544) ➞ False\n",
    "is_disarium(518) ➞ True\n",
    "is_disarium(466) ➞ False\n",
    "is_disarium(8) ➞ True"
   ]
  },
  {
   "cell_type": "code",
   "execution_count": 6,
   "id": "3f7dc291",
   "metadata": {},
   "outputs": [
    {
     "name": "stdout",
     "output_type": "stream",
     "text": [
      "False\n",
      "False\n",
      "False\n",
      "False\n",
      "False\n",
      "True\n"
     ]
    }
   ],
   "source": [
    "def is_disarium(number):\n",
    "    num_str = str(number)\n",
    "    num_len = len(num_str)\n",
    "    sum = 0\n",
    "    for i in range(num_len):\n",
    "        digit = int(num_str[i])\n",
    "        sum += digit ** (i + 1)\n",
    "        return sum == number\n",
    "print(is_disarium(75)) \n",
    "print(is_disarium(135)) \n",
    "print(is_disarium(544)) \n",
    "print(is_disarium(518)) \n",
    "print(is_disarium(466)) \n",
    "print(is_disarium(8)) "
   ]
  },
  {
   "cell_type": "code",
   "execution_count": null,
   "id": "3cc9d644",
   "metadata": {},
   "outputs": [],
   "source": []
  }
 ],
 "metadata": {
  "kernelspec": {
   "display_name": "Python 3 (ipykernel)",
   "language": "python",
   "name": "python3"
  },
  "language_info": {
   "codemirror_mode": {
    "name": "ipython",
    "version": 3
   },
   "file_extension": ".py",
   "mimetype": "text/x-python",
   "name": "python",
   "nbconvert_exporter": "python",
   "pygments_lexer": "ipython3",
   "version": "3.9.12"
  }
 },
 "nbformat": 4,
 "nbformat_minor": 5
}
