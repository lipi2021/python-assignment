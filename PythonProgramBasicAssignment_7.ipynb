{
 "cells": [
  {
   "cell_type": "markdown",
   "id": "730ce6ec",
   "metadata": {},
   "source": [
    "1. Write a Python Program to find sum of array?"
   ]
  },
  {
   "cell_type": "code",
   "execution_count": 10,
   "id": "55de5d33",
   "metadata": {},
   "outputs": [
    {
     "name": "stdout",
     "output_type": "stream",
     "text": [
      "Enter the number of elements you want in array: 3\n",
      "Please give value for index 0: 1\n",
      "Please give value for index 1: 4\n",
      "Please give value for index 2: 5\n",
      "Sum of array elements =  10\n"
     ]
    }
   ],
   "source": [
    "size=int(input(\"Enter the number of elements you want in array: \"))\n",
    "arr=[]\n",
    "sum=0\n",
    "# adding elements to the array (list)\n",
    "for i in range(0,size):\n",
    "    elem=int(input(\"Please give value for index \"+str(i)+\": \"))\n",
    "    arr.append(elem)\n",
    "    sum+=elem\n",
    "print(\"Sum of array elements = \",sum)"
   ]
  },
  {
   "cell_type": "markdown",
   "id": "62f4d2c9",
   "metadata": {},
   "source": [
    "2. Write a Python Program to find largest element in an array?"
   ]
  },
  {
   "cell_type": "code",
   "execution_count": 11,
   "id": "decaaeda",
   "metadata": {},
   "outputs": [
    {
     "name": "stdout",
     "output_type": "stream",
     "text": [
      "Enter the size of the array: 5\n",
      "Enter array elements: \n",
      "6\n",
      "9\n",
      "13\n",
      "4\n",
      "2\n",
      "The largest element of the given list is: 13\n"
     ]
    }
   ],
   "source": [
    "lst = []\n",
    "num = int(input(\"Enter the size of the array: \"))\n",
    "print(\"Enter array elements: \")\n",
    "for n in range(num):\n",
    "  numbers = int(input())\n",
    "  lst.append(numbers)\n",
    "print(\"The largest element of the given list is:\", max(lst))"
   ]
  },
  {
   "cell_type": "markdown",
   "id": "a061d84e",
   "metadata": {},
   "source": [
    "3. Write a Python Program for array rotation?"
   ]
  },
  {
   "cell_type": "code",
   "execution_count": 14,
   "id": "7d35851f",
   "metadata": {},
   "outputs": [
    {
     "name": "stdout",
     "output_type": "stream",
     "text": [
      "Enter number of elements of the array: 3\n",
      "Enter elements of the array :\n",
      "12\n",
      "34\n",
      "27\n",
      "Enter rotation count: 1\n",
      "Initial Array : 12 34 27 \n",
      "Array after rotation:  34 27 12 "
     ]
    }
   ],
   "source": [
    "def rotateArrayLeft(arr, R, n):\n",
    "    for i in range(R):\n",
    "        firstVal = arr[0]\n",
    "        for i in range(n-1):\n",
    "            arr[i] = arr[i+1]\n",
    "        arr[n-1] = firstVal\n",
    "\n",
    "# Taking array input from user\n",
    "\n",
    "n = int(input(\"Enter number of elements of the array: \"))\n",
    "arr = []\n",
    "print(\"Enter elements of the array :\")\n",
    "for i in range(n):\n",
    "  numbers = int(input())\n",
    "  arr.append(numbers)\n",
    "R = int(input(\"Enter rotation count: \"))\n",
    "\n",
    "# Printing array \n",
    "print(\"Initial Array :\", end = \" \")\n",
    "for i in range(n):\n",
    "    print (\"%d\"% arr[i],end=\" \")\n",
    "    \n",
    "# Calling function for left Rotating array \n",
    "rotateArrayLeft(arr, R, n)\n",
    "\n",
    "# Printing new array \n",
    "print(\"\\nArray after rotation: \", end = \" \")\n",
    "for i in range(n):\n",
    "    print (\"%d\"% arr[i],end=\" \")"
   ]
  },
  {
   "cell_type": "markdown",
   "id": "f9e78a03",
   "metadata": {},
   "source": [
    "4. Write a Python Program to Split the array and add the first part to the end?"
   ]
  },
  {
   "cell_type": "code",
   "execution_count": 19,
   "id": "83623381",
   "metadata": {},
   "outputs": [
    {
     "name": "stdout",
     "output_type": "stream",
     "text": [
      "The list is :\n",
      "[23, 42, 56, 58, 20, 0, 63]\n",
      "The split_list method is being called\n",
      "56\n",
      "58\n",
      "20\n",
      "0\n",
      "63\n",
      "23\n",
      "42\n"
     ]
    }
   ],
   "source": [
    "def split_list(my_list, n_val, k_val):\n",
    "   for i in range(0, k_val):\n",
    "      first_val = my_list[0]\n",
    "      for k in range(0, n_val-1):\n",
    "         my_list[k] = my_list[k + 1]\n",
    "      my_list[n_val-1] = first_val\n",
    "my_list = [23, 42, 56, 58, 20, 0, 63]\n",
    "list_len = len(my_list)\n",
    "pos = 2\n",
    "print(\"The list is :\")\n",
    "print(my_list)\n",
    "print(\"The split_list method is being called\")\n",
    "split_list(my_list, list_len, pos)\n",
    "for i in range(0, list_len):\n",
    "    print(my_list[i])"
   ]
  },
  {
   "cell_type": "markdown",
   "id": "23402c57",
   "metadata": {},
   "source": [
    "5. Write a Python Program to check if given array is Monotonic?"
   ]
  },
  {
   "cell_type": "code",
   "execution_count": 21,
   "id": "4dbcc14c",
   "metadata": {},
   "outputs": [
    {
     "name": "stdout",
     "output_type": "stream",
     "text": [
      "False\n"
     ]
    }
   ],
   "source": [
    "def isMonotonic(A):\n",
    "  \n",
    "    return (all(A[i] <= A[i + 1] for i in range(len(A) - 1)) or\n",
    "            all(A[i] >= A[i + 1] for i in range(len(A) - 1)))\n",
    "  \n",
    "A = [9, 5, 8, 4]\n",
    "print(isMonotonic(A))\n",
    "  "
   ]
  },
  {
   "cell_type": "code",
   "execution_count": null,
   "id": "a852a832",
   "metadata": {},
   "outputs": [],
   "source": []
  }
 ],
 "metadata": {
  "kernelspec": {
   "display_name": "Python 3 (ipykernel)",
   "language": "python",
   "name": "python3"
  },
  "language_info": {
   "codemirror_mode": {
    "name": "ipython",
    "version": 3
   },
   "file_extension": ".py",
   "mimetype": "text/x-python",
   "name": "python",
   "nbconvert_exporter": "python",
   "pygments_lexer": "ipython3",
   "version": "3.9.12"
  }
 },
 "nbformat": 4,
 "nbformat_minor": 5
}
