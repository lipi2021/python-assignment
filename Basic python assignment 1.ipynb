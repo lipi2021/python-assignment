{
 "cells": [
  {
   "cell_type": "code",
   "execution_count": 1,
   "id": "35bbe74f",
   "metadata": {},
   "outputs": [],
   "source": [
    "#Python Basic Assignment 1"
   ]
  },
  {
   "cell_type": "markdown",
   "id": "2de418fc",
   "metadata": {},
   "source": [
    "Q1: 'Hello','-87.8' and '6'are the values '*','-','/','+' are expressions"
   ]
  },
  {
   "cell_type": "markdown",
   "id": "18b5890b",
   "metadata": {},
   "source": [
    "Q2: A variable is basically the name of the location in the primary memory of our computer.In other words, a variable in a python program gives data to the computer for processing.This can be chosen by us. A variable can store everything from strings to numbers. \n",
    "\n",
    "In Python, string is an immutable sequence data type. It is the sequence of Unicode characters wrapped inside single, double, or triple quotes."
   ]
  },
  {
   "cell_type": "markdown",
   "id": "34cfa4dc",
   "metadata": {},
   "source": [
    "Three main types of data in python are integer, float and string. Integer type:A complete number, example 100. Float type: The float type in Python designates a floating-point number, float values are specified with a decimal point. String type:"
   ]
  },
  {
   "cell_type": "markdown",
   "id": "ca4f91a1",
   "metadata": {},
   "source": [
    "Q3: Data types are the classification or categorization of data items. It represents the kind of value that tells what operations can be performed on a particular data. Since everything is an object in Python programming, data types are actually classes and variables are instance (object) of these classes.\n",
    "\n",
    "Following are the standard or built-in data type of Python:\n",
    "\n",
    "(i)Numeric: Integer,float and complex numbers. (ii)Sequence Type: String, list and tuple. (iii)Boolean: True and False with capital ‘T’ and ‘F’ are valid booleans otherwise python will give an error. (iv)Set. (v)Dictionary."
   ]
  },
  {
   "cell_type": "markdown",
   "id": "8326a032",
   "metadata": {},
   "source": [
    "Q4: An expression is a combination of values, variables, operators, and calls to functions. Each of these are also considered as expressions seperately.Expressions need to be evaluated. If we ask Python to print an expression, the interpreter evaluates the expression and displays the result."
   ]
  },
  {
   "cell_type": "markdown",
   "id": "323d035d",
   "metadata": {},
   "source": [
    "Q5: spam=10; This type of command where a value is assigned to a variable is called a Python Statement.So in other words, we can see that a Python statement is made up of one or more Python expressions.\n",
    "\n",
    "Expression Vs Statement:\n",
    "Expression:Expressions always returns a value\n",
    "Functions are also expressions. \n",
    "Even a non returning function will still return None value, so it is an expression.\n",
    "Can print the result value.\n",
    "Examples Of Python Expressions: “Hello” + “World”, 4 + 5 etc.\n",
    "Statement:A statement never returns a value.\n",
    "Cannot print any result.\n",
    "Examples Of Python Statements: Assignment statements, conditional branching, loops, classes, import, def, try, except, pass, del etc."
   ]
  },
  {
   "cell_type": "code",
   "execution_count": 3,
   "id": "02e2f2cb",
   "metadata": {},
   "outputs": [],
   "source": [
    "bacon=22"
   ]
  },
  {
   "cell_type": "code",
   "execution_count": 4,
   "id": "7b419e73",
   "metadata": {},
   "outputs": [
    {
     "data": {
      "text/plain": [
       "23"
      ]
     },
     "execution_count": 4,
     "metadata": {},
     "output_type": "execute_result"
    }
   ],
   "source": [
    "bacon+1"
   ]
  },
  {
   "cell_type": "code",
   "execution_count": 5,
   "id": "28aefac5",
   "metadata": {},
   "outputs": [
    {
     "data": {
      "text/plain": [
       "'spamspamspam'"
      ]
     },
     "execution_count": 5,
     "metadata": {},
     "output_type": "execute_result"
    }
   ],
   "source": [
    "'spam'+'spamspam'"
   ]
  },
  {
   "cell_type": "code",
   "execution_count": 6,
   "id": "c1ffdb98",
   "metadata": {},
   "outputs": [
    {
     "data": {
      "text/plain": [
       "'spamspamspam'"
      ]
     },
     "execution_count": 6,
     "metadata": {},
     "output_type": "execute_result"
    }
   ],
   "source": [
    "'spam'*3"
   ]
  },
  {
   "cell_type": "markdown",
   "id": "a300c511",
   "metadata": {},
   "source": [
    "[9] The three functions are int(), float() and str() can be used to get the integer, floating-point number, or string version of a value."
   ]
  },
  {
   "cell_type": "code",
   "execution_count": 7,
   "id": "cc85c7fd",
   "metadata": {},
   "outputs": [
    {
     "ename": "TypeError",
     "evalue": "can only concatenate str (not \"int\") to str",
     "output_type": "error",
     "traceback": [
      "\u001b[1;31m---------------------------------------------------------------------------\u001b[0m",
      "\u001b[1;31mTypeError\u001b[0m                                 Traceback (most recent call last)",
      "\u001b[1;32m<ipython-input-7-d07f901dbc9e>\u001b[0m in \u001b[0;36m<module>\u001b[1;34m\u001b[0m\n\u001b[1;32m----> 1\u001b[1;33m \u001b[1;34m'I have eaten'\u001b[0m \u001b[1;33m+\u001b[0m \u001b[1;36m99\u001b[0m \u001b[1;33m+\u001b[0m\u001b[1;34m'burritos'\u001b[0m\u001b[1;33m\u001b[0m\u001b[1;33m\u001b[0m\u001b[0m\n\u001b[0m",
      "\u001b[1;31mTypeError\u001b[0m: can only concatenate str (not \"int\") to str"
     ]
    }
   ],
   "source": [
    "'I have eaten' + 99 +'burritos'"
   ]
  },
  {
   "cell_type": "code",
   "execution_count": 8,
   "id": "ec09f670",
   "metadata": {},
   "outputs": [
    {
     "data": {
      "text/plain": [
       "'I have eaten 99 burritos'"
      ]
     },
     "execution_count": 8,
     "metadata": {},
     "output_type": "execute_result"
    }
   ],
   "source": [
    "'I have eaten ' + '99 ' + 'burritos'"
   ]
  },
  {
   "cell_type": "code",
   "execution_count": null,
   "id": "cc640b4d",
   "metadata": {},
   "outputs": [],
   "source": []
  }
 ],
 "metadata": {
  "kernelspec": {
   "display_name": "Python 3",
   "language": "python",
   "name": "python3"
  },
  "language_info": {
   "codemirror_mode": {
    "name": "ipython",
    "version": 3
   },
   "file_extension": ".py",
   "mimetype": "text/x-python",
   "name": "python",
   "nbconvert_exporter": "python",
   "pygments_lexer": "ipython3",
   "version": "3.8.8"
  }
 },
 "nbformat": 4,
 "nbformat_minor": 5
}
