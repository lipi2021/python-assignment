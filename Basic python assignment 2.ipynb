{
 "cells": [
  {
   "cell_type": "markdown",
   "id": "d6edf751",
   "metadata": {},
   "source": [
    "Q1: 'True' and 'False' are the two values of Boolean data types. They are represented as 'T' and 'F' correspondingly. Internally Python represents True as 1 and False as 0. Booleans allow to create logical conditions that define the behaviour of an application. Boolean operators are used to create more complex logical conditions."
   ]
  },
  {
   "cell_type": "markdown",
   "id": "216336b5",
   "metadata": {},
   "source": [
    "Q2: Three dofferent types of Boolean operators are: Conjunction or 'and' operation, Disjunction or 'or' operation, Negation or 'not' operation."
   ]
  },
  {
   "cell_type": "markdown",
   "id": "fd19516a",
   "metadata": {},
   "source": [
    "Q4: \n",
    "Truth table of and operator:considering A, B as two variables\n",
    "   A       B     A and B\n",
    "  T(1)     T(1)    T(1)\n",
    "  T(1)     F(0)    F(0)\n",
    "  F(0)     T(1)    F(0)\n",
    "  F(0)     F(0)    F(0)\n",
    "\n",
    "Truth table of or operator:considering A, B as two variables\n",
    "    A       B     A or B\n",
    "    T(1)   T(1)   T(1) \n",
    "    T(1)   F(0)   T(1)\n",
    "    F(0)   T(1)   T(1)\n",
    "    F(0)   F(0)   F(0)\n",
    "    \n",
    " Truth table of not operator:considering A variable\n",
    "    A        not A\n",
    "    T(1)     F(0)\n",
    "    F(0)     T(1)\n",
    "    \n",
    "    "
   ]
  },
  {
   "cell_type": "code",
   "execution_count": 1,
   "id": "84e49b4c",
   "metadata": {},
   "outputs": [
    {
     "data": {
      "text/plain": [
       "False"
      ]
     },
     "execution_count": 1,
     "metadata": {},
     "output_type": "execute_result"
    }
   ],
   "source": [
    "(5>4) and (3==5)"
   ]
  },
  {
   "cell_type": "code",
   "execution_count": 2,
   "id": "c92eb396",
   "metadata": {},
   "outputs": [
    {
     "data": {
      "text/plain": [
       "False"
      ]
     },
     "execution_count": 2,
     "metadata": {},
     "output_type": "execute_result"
    }
   ],
   "source": [
    "not(5>4)"
   ]
  },
  {
   "cell_type": "code",
   "execution_count": 3,
   "id": "31a15628",
   "metadata": {},
   "outputs": [
    {
     "data": {
      "text/plain": [
       "True"
      ]
     },
     "execution_count": 3,
     "metadata": {},
     "output_type": "execute_result"
    }
   ],
   "source": [
    "(5>4) or (3==5)"
   ]
  },
  {
   "cell_type": "code",
   "execution_count": 4,
   "id": "d9a1e7f2",
   "metadata": {},
   "outputs": [
    {
     "data": {
      "text/plain": [
       "False"
      ]
     },
     "execution_count": 4,
     "metadata": {},
     "output_type": "execute_result"
    }
   ],
   "source": [
    "not((5>4) or (3==5))"
   ]
  },
  {
   "cell_type": "code",
   "execution_count": 5,
   "id": "fbe52791",
   "metadata": {},
   "outputs": [
    {
     "data": {
      "text/plain": [
       "False"
      ]
     },
     "execution_count": 5,
     "metadata": {},
     "output_type": "execute_result"
    }
   ],
   "source": [
    "(True and True) and (True==False)"
   ]
  },
  {
   "cell_type": "code",
   "execution_count": 6,
   "id": "d50dbd7e",
   "metadata": {},
   "outputs": [
    {
     "data": {
      "text/plain": [
       "True"
      ]
     },
     "execution_count": 6,
     "metadata": {},
     "output_type": "execute_result"
    }
   ],
   "source": [
    "(not False) or (not True)"
   ]
  },
  {
   "cell_type": "markdown",
   "id": "f776ade8",
   "metadata": {},
   "source": [
    "Q5: The six comparision or relational operators in python are:\n",
    "    \"Equal To\" Operator in python \"==\".\n",
    "    \"Not Equal To\" Operator in python \"!=\" .\n",
    "    \"Greater Than\" Operator in python \">\".\n",
    "    \"Less Than\" Operator in python \"< \".\n",
    "    \"Greater Than Equal To\" Operator in python \">=\".\n",
    "    \"Less Than Equal To\"  Operator in python \"<=\"."
   ]
  },
  {
   "cell_type": "markdown",
   "id": "72f2c216",
   "metadata": {},
   "source": [
    "Q6:The “ = ” is an assignment operator is used to assign the value on the right to the variable on the left. The ‘==’ operator checks whether the two given operands are equal or not. If so, it returns true. Otherwise it returns false. 5==5 This will return true. "
   ]
  },
  {
   "cell_type": "code",
   "execution_count": null,
   "id": "70328392",
   "metadata": {},
   "outputs": [],
   "source": []
  }
 ],
 "metadata": {
  "kernelspec": {
   "display_name": "Python 3",
   "language": "python",
   "name": "python3"
  },
  "language_info": {
   "codemirror_mode": {
    "name": "ipython",
    "version": 3
   },
   "file_extension": ".py",
   "mimetype": "text/x-python",
   "name": "python",
   "nbconvert_exporter": "python",
   "pygments_lexer": "ipython3",
   "version": "3.8.8"
  }
 },
 "nbformat": 4,
 "nbformat_minor": 5
}
