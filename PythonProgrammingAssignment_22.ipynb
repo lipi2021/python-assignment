{
 "cells": [
  {
   "cell_type": "markdown",
   "id": "b09bd7ea",
   "metadata": {},
   "source": [
    "Question1\n",
    "Create a function that takes three parameters where:\n",
    " x is the start of the range (inclusive).\n",
    " y is the end of the range (inclusive).\n",
    " n is the divisor to be checked against.\n",
    "Return an ordered list with numbers in the range that are divisible by the third parameter n.\n",
    "Return an empty list if there are no numbers that are divisible by n.\n",
    "Examples\n",
    "list_operation(1, 10, 3) ➞ [3, 6, 9]\n",
    "list_operation(7, 9, 2) ➞ [8]\n",
    "list_operation(15, 20, 7) ➞ []"
   ]
  },
  {
   "cell_type": "code",
   "execution_count": 1,
   "id": "c7205477",
   "metadata": {},
   "outputs": [
    {
     "name": "stdout",
     "output_type": "stream",
     "text": [
      "[3, 6, 9]\n",
      "[8]\n",
      "[]\n"
     ]
    }
   ],
   "source": [
    "def list_operation(x, y, n):\n",
    "    result = []\n",
    "    for i in range(x, y+1):\n",
    "        if i % n == 0:\n",
    "            result.append(i)\n",
    "    return result\n",
    "\n",
    "print(list_operation(1, 10, 3)) \n",
    "print(list_operation(7, 9, 2)) \n",
    "print(list_operation(15, 20, 7)) "
   ]
  },
  {
   "cell_type": "markdown",
   "id": "36c05723",
   "metadata": {},
   "source": [
    "Question2\n",
    "Create a function that takes in two lists and returns True if the second list follows the first list\n",
    "by one element, and False otherwise. In other words, determine if the second list is the first\n",
    "list shifted to the right by 1.\n",
    "Examples\n",
    "simon_says([1, 2], [5, 1]) ➞ True\n",
    "simon_says([1, 2], [5, 5]) ➞ False\n",
    "simon_says([1, 2, 3, 4, 5], [0, 1, 2, 3, 4]) ➞ True\n",
    "simon_says([1, 2, 3, 4, 5], [5, 5, 1, 2, 3]) ➞ False"
   ]
  },
  {
   "cell_type": "code",
   "execution_count": 2,
   "id": "405f2fbc",
   "metadata": {},
   "outputs": [
    {
     "name": "stdout",
     "output_type": "stream",
     "text": [
      "False\n",
      "False\n",
      "False\n",
      "False\n"
     ]
    }
   ],
   "source": [
    "def simon_says(list1, list2):\n",
    "    if len(list1) != len(list2):\n",
    "        return False\n",
    "    for i in range(len(list1)-1):\n",
    "        if list1[i+1] != list2[i]:\n",
    "            return False\n",
    "    return True\n",
    "\n",
    "print(simon_says([1, 2], [5, 1])) \n",
    "print(simon_says([1, 2], [5, 5])) \n",
    "print(simon_says([1, 2, 3, 4, 5], [0, 1, 2, 3, 4])) \n",
    "print(simon_says([1, 2, 3, 4, 5], [5, 5, 1, 2, 3])) "
   ]
  },
  {
   "cell_type": "markdown",
   "id": "56f85bfb",
   "metadata": {},
   "source": [
    "Question3\n",
    "A group of friends have decided to start a secret society. The name will be the first letter of\n",
    "each of their names, sorted in alphabetical order.\n",
    "Create a function that takes in a list of names and returns the name of the secret society.\n",
    "\n",
    "Examples\n",
    "society_name([\";Adam\", \"Sarah\", \"Malcolm\"]) ➞ \"AMS\"\n",
    "society_name([\"Harry\", \"Newt\", \"Luna\", \"Cho\"]) ➞ \"CHLN\"\n",
    "society_name([\"Phoebe\", \"Chandler\", \"Rachel\", \"Ross\", \"Monica\", \"Joey\"])"
   ]
  },
  {
   "cell_type": "code",
   "execution_count": 3,
   "id": "7d2eb9e8",
   "metadata": {},
   "outputs": [
    {
     "name": "stdout",
     "output_type": "stream",
     "text": [
      "AMS\n",
      "CHLN\n",
      "CJMPRR\n"
     ]
    }
   ],
   "source": [
    "def society_name(names):\n",
    "    #sort the list of names in alphabetical order\n",
    "    names.sort()\n",
    "    #initialize an empty string to store the society name\n",
    "    society = \"\"\n",
    "    #iterate through the list of names and add the first letter of each name to the society string\n",
    "    for name in names:\n",
    "        society += name[0]\n",
    "    return society\n",
    "\n",
    "print(society_name([\"Adam\", \"Sarah\", \"Malcolm\"]))\n",
    "print(society_name([\"Harry\", \"Newt\", \"Luna\", \"Cho\"])) \n",
    "print(society_name([\"Phoebe\", \"Chandler\", \"Rachel\", \"Ross\", \"Monica\", \"Joey\"])) "
   ]
  },
  {
   "cell_type": "markdown",
   "id": "1e8e5f4d",
   "metadata": {},
   "source": [
    "Question4\n",
    "An isogram is a word that has no duplicate letters. Create a function that takes a string and\n",
    "returns either True or False depending on whether or not it's an \"isogram\".\n",
    "Examples\n",
    "is_isogram(\"Algorism\") ➞ True\n",
    "is_isogram(\"PasSword\") ➞ False# Not case sensitive.\n",
    "is_isogram(\"Consecutive\") ➞ False"
   ]
  },
  {
   "cell_type": "code",
   "execution_count": 4,
   "id": "e32d48f5",
   "metadata": {},
   "outputs": [
    {
     "name": "stdout",
     "output_type": "stream",
     "text": [
      "True\n",
      "False\n",
      "False\n"
     ]
    }
   ],
   "source": [
    "def is_isogram(word):\n",
    "    #convert the word to lowercase\n",
    "    word = word.lower()\n",
    "    #create an empty set\n",
    "    char_set = set()\n",
    "    #iterate through the characters in the word\n",
    "    for char in word:\n",
    "        #if the character is already in the set, return False\n",
    "        if char in char_set:\n",
    "            return False\n",
    "        #otherwise, add the character to the set\n",
    "        char_set.add(char)\n",
    "    #if the loop completes without returning, the word is an isogram, so return True\n",
    "    return True\n",
    "\n",
    "print(is_isogram(\"Algorism\")) \n",
    "print(is_isogram(\"PasSword\")) \n",
    "print(is_isogram(\"Consecutive\")) \n"
   ]
  },
  {
   "cell_type": "markdown",
   "id": "b5ba5bf0",
   "metadata": {},
   "source": [
    "Question5\n",
    "Create a function that takes a string and returns True or False, depending on whether the\n",
    "characters are in order or not.\n",
    "Examples\n",
    "is_in_order(\"abc\") ➞ True\n",
    "is_in_order(\"edabit\") ➞ False\n",
    "is_in_order(\"123\") ➞ True\n",
    "is_in_order(\"xyzz\") ➞ True"
   ]
  },
  {
   "cell_type": "code",
   "execution_count": 5,
   "id": "80c9c85e",
   "metadata": {},
   "outputs": [
    {
     "name": "stdout",
     "output_type": "stream",
     "text": [
      "True\n",
      "False\n",
      "True\n",
      "True\n"
     ]
    }
   ],
   "source": [
    "def is_in_order(word):\n",
    "    #iterate through the characters in the word\n",
    "    for i in range(len(word)-1):\n",
    "        #if the current character has a greater ASCII value than the next character, return False\n",
    "        if ord(word[i]) > ord(word[i+1]):\n",
    "            return False\n",
    "    #if the loop completes without returning, the word is in order, so return True\n",
    "    return True\n",
    "\n",
    "print(is_in_order(\"abc\")) \n",
    "print(is_in_order(\"edabit\")) \n",
    "print(is_in_order(\"123\")) \n",
    "print(is_in_order(\"xyzz\")) "
   ]
  },
  {
   "cell_type": "code",
   "execution_count": null,
   "id": "829d5bd6",
   "metadata": {},
   "outputs": [],
   "source": []
  }
 ],
 "metadata": {
  "kernelspec": {
   "display_name": "Python 3 (ipykernel)",
   "language": "python",
   "name": "python3"
  },
  "language_info": {
   "codemirror_mode": {
    "name": "ipython",
    "version": 3
   },
   "file_extension": ".py",
   "mimetype": "text/x-python",
   "name": "python",
   "nbconvert_exporter": "python",
   "pygments_lexer": "ipython3",
   "version": "3.9.12"
  }
 },
 "nbformat": 4,
 "nbformat_minor": 5
}
