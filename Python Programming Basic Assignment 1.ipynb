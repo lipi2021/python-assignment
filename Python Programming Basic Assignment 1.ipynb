{
 "cells": [
  {
   "cell_type": "markdown",
   "id": "9928bd8d",
   "metadata": {},
   "source": [
    "Q1: Write a python program to print \"Hello Python\""
   ]
  },
  {
   "cell_type": "code",
   "execution_count": 1,
   "id": "ebf949a1",
   "metadata": {},
   "outputs": [
    {
     "name": "stdout",
     "output_type": "stream",
     "text": [
      "Hello Python\n"
     ]
    }
   ],
   "source": [
    "print(\"Hello Python\")"
   ]
  },
  {
   "cell_type": "markdown",
   "id": "8ff4851d",
   "metadata": {},
   "source": [
    "Q2:Write a python program to do arithmatic operations addition and devision"
   ]
  },
  {
   "cell_type": "code",
   "execution_count": 2,
   "id": "32c3c0f3",
   "metadata": {},
   "outputs": [
    {
     "name": "stdout",
     "output_type": "stream",
     "text": [
      "Enter the first number a:24\n",
      "Enter the second number b:3\n"
     ]
    }
   ],
   "source": [
    "a=float(input('Enter the first number a:'))\n",
    "b=float(input('Enter the second number b:'))"
   ]
  },
  {
   "cell_type": "code",
   "execution_count": 3,
   "id": "059da6ca",
   "metadata": {},
   "outputs": [
    {
     "name": "stdout",
     "output_type": "stream",
     "text": [
      "27.0 8.0\n"
     ]
    }
   ],
   "source": [
    "sum=a+b\n",
    "div=a/b\n",
    "print(sum,div)"
   ]
  },
  {
   "cell_type": "markdown",
   "id": "668bab1f",
   "metadata": {},
   "source": [
    "Q3:write a python program to find the area of a triangle"
   ]
  },
  {
   "cell_type": "code",
   "execution_count": 5,
   "id": "ace7d3dd",
   "metadata": {},
   "outputs": [
    {
     "name": "stdout",
     "output_type": "stream",
     "text": [
      "Enter the length of first side:8\n",
      "Enter the length of second side:6\n",
      "Enter the length of third side:10\n",
      "The area of the triangle is24.00\n"
     ]
    }
   ],
   "source": [
    "a=float(input('Enter the length of first side:'))\n",
    "b=float(input('Enter the length of second side:'))\n",
    "c=float(input('Enter the length of third side:'))\n",
    "s=float(a+b+c)/2\n",
    "Area=float(s*(s-a)*(s-b)*(s-c))**0.5\n",
    "print('The area of the triangle is%0.2f' % Area)"
   ]
  },
  {
   "cell_type": "markdown",
   "id": "3e616a23",
   "metadata": {},
   "source": [
    "Q4: Write a python program to swap two variables"
   ]
  },
  {
   "cell_type": "code",
   "execution_count": 6,
   "id": "ecfec0cc",
   "metadata": {},
   "outputs": [
    {
     "name": "stdout",
     "output_type": "stream",
     "text": [
      "Initial Value of a = 20\n",
      "Initial Value of b = 30\n",
      "\n",
      "After swaping value of a = 30\n",
      "After swaping value of b = 20\n"
     ]
    }
   ],
   "source": [
    "a = 20\n",
    "b = 30\n",
    "print(\"Initial Value of a =\", a)\n",
    "print(\"Initial Value of b =\", b)\n",
    "temp = a\n",
    "a = b\n",
    "b = temp\n",
    "print(\"\\nAfter swaping value of a =\", a)\n",
    "print(\"After swaping value of b =\", b)"
   ]
  },
  {
   "cell_type": "markdown",
   "id": "1ca02ce3",
   "metadata": {},
   "source": [
    "Q5:Write a python program to generate a random number"
   ]
  },
  {
   "cell_type": "code",
   "execution_count": 7,
   "id": "7d226a24",
   "metadata": {},
   "outputs": [
    {
     "name": "stdout",
     "output_type": "stream",
     "text": [
      "5\n"
     ]
    }
   ],
   "source": [
    "import random\n",
    "print(random.randint(0,9))"
   ]
  },
  {
   "cell_type": "code",
   "execution_count": null,
   "id": "48a44afa",
   "metadata": {},
   "outputs": [],
   "source": []
  }
 ],
 "metadata": {
  "kernelspec": {
   "display_name": "Python 3 (ipykernel)",
   "language": "python",
   "name": "python3"
  },
  "language_info": {
   "codemirror_mode": {
    "name": "ipython",
    "version": 3
   },
   "file_extension": ".py",
   "mimetype": "text/x-python",
   "name": "python",
   "nbconvert_exporter": "python",
   "pygments_lexer": "ipython3",
   "version": "3.9.7"
  }
 },
 "nbformat": 4,
 "nbformat_minor": 5
}
