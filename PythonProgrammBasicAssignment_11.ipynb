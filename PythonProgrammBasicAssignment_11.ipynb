{
 "cells": [
  {
   "cell_type": "markdown",
   "id": "7a26904e",
   "metadata": {},
   "source": [
    "1. Write a Python program to find words which are greater than given length k?"
   ]
  },
  {
   "cell_type": "code",
   "execution_count": 2,
   "id": "91d79bb9",
   "metadata": {},
   "outputs": [
    {
     "name": "stdout",
     "output_type": "stream",
     "text": [
      "Python\n",
      "good\n",
      "language\n"
     ]
    }
   ],
   "source": [
    "def word_k(k, s):    \n",
    "    word = s.split(\" \")\n",
    "    for x in word:\n",
    "        if len(x)>k:\n",
    "          print(x)\n",
    "k = 3\n",
    "s =\"Python is good language\"\n",
    "word_k(k, s)"
   ]
  },
  {
   "cell_type": "markdown",
   "id": "24c678cd",
   "metadata": {},
   "source": [
    "2. Write a Python program for removing i-th character from a string?"
   ]
  },
  {
   "cell_type": "code",
   "execution_count": 3,
   "id": "c030a7e6",
   "metadata": {},
   "outputs": [
    {
     "name": "stdout",
     "output_type": "stream",
     "text": [
      "Pytonisgood\n"
     ]
    }
   ],
   "source": [
    "def remove_char(s, i):\n",
    "    a = s[ : i]\n",
    "    b = s[i + 1: ]\n",
    "\n",
    "    return a+b\n",
    "\n",
    "string = \"Pythonisgood\"\n",
    "# Remove ith index element\n",
    "i = 4\n",
    "print(remove_char(string,i-1))"
   ]
  },
  {
   "cell_type": "markdown",
   "id": "a02afd6a",
   "metadata": {},
   "source": [
    "3. Write a Python program to split and join a string?"
   ]
  },
  {
   "cell_type": "code",
   "execution_count": 5,
   "id": "bf3daab8",
   "metadata": {},
   "outputs": [
    {
     "name": "stdout",
     "output_type": "stream",
     "text": [
      "After splitting : ['Welcome', 'to', 'Python', 'world']\n",
      "After joining:  Welcome-to-Python-world\n"
     ]
    }
   ],
   "source": [
    "def split_string(string):\n",
    "    list_string = string.split(' ')\n",
    "    return list_string\n",
    "\n",
    "def join_string(list_string):\n",
    "    string = '-' .join(list_string)\n",
    "    return string\n",
    "\n",
    "string = 'Welcome to Python world'\n",
    "list_string = split_string(string)\n",
    "print(\"After splitting :\", list_string)\n",
    "\n",
    "res_string = join_string(list_string)\n",
    "print (\"After joining: \",res_string)\n",
    "\n"
   ]
  },
  {
   "cell_type": "markdown",
   "id": "d608ef17",
   "metadata": {},
   "source": [
    "4. Write a Python to check if a given string is binary string or not?"
   ]
  },
  {
   "cell_type": "code",
   "execution_count": 9,
   "id": "6d45ffc6",
   "metadata": {},
   "outputs": [
    {
     "name": "stdout",
     "output_type": "stream",
     "text": [
      "Binary String\n",
      "Non Binary string\n"
     ]
    }
   ],
   "source": [
    "def check (string):\n",
    "    b = set (string)\n",
    "    s = {'0','1'}\n",
    "    if s==b or b == {'0'} or b =={'1'}:\n",
    "         print (\"Binary String\")\n",
    "    else:\n",
    "         print (\"Non Binary string\")\n",
    "s1='0100110'\n",
    "check(s1)\n",
    "s2='1202110'\n",
    "check(s2)"
   ]
  },
  {
   "cell_type": "markdown",
   "id": "1ef53c33",
   "metadata": {},
   "source": [
    "5. Write a Python program to find uncommon words from two Strings?"
   ]
  },
  {
   "cell_type": "code",
   "execution_count": 10,
   "id": "6e2d2348",
   "metadata": {},
   "outputs": [
    {
     "name": "stdout",
     "output_type": "stream",
     "text": [
      "['Apple', 'Banana']\n"
     ]
    }
   ],
   "source": [
    "def UncommonWords(A,B):\n",
    "    count = {}\n",
    "    \n",
    "    for word in A.split():\n",
    "        count[word]= count.get(word,0)+1\n",
    "        \n",
    "    for word in B.split():\n",
    "        count[word]= count.get(word,0)+1\n",
    "        \n",
    "    return [word for word in count if count[word]==1]\n",
    "A =\"Apple is a fruit\"\n",
    "B =\"Banana is a fruit\"\n",
    "print (UncommonWords(A,B))\n",
    "        "
   ]
  },
  {
   "cell_type": "markdown",
   "id": "5498caa9",
   "metadata": {},
   "source": [
    "6. Write a Python to find all duplicate characters in string?"
   ]
  },
  {
   "cell_type": "code",
   "execution_count": 14,
   "id": "491d896e",
   "metadata": {},
   "outputs": [
    {
     "name": "stdout",
     "output_type": "stream",
     "text": [
      "P\n",
      "o\n",
      "r\n"
     ]
    }
   ],
   "source": [
    "from collections import Counter\n",
    " \n",
    "def find_dup_char(input):\n",
    " \n",
    "    WC = Counter(input)\n",
    " \n",
    "    for letter, count in WC.items():\n",
    "        if (count > 1):\n",
    "            print(letter)\n",
    " \n",
    "if __name__ == \"__main__\":\n",
    "    input = 'Python Program'\n",
    "    find_dup_char(input)"
   ]
  },
  {
   "cell_type": "markdown",
   "id": "8bb8e065",
   "metadata": {},
   "source": [
    "7. Write a Python Program to check if a string contains any special character?"
   ]
  },
  {
   "cell_type": "code",
   "execution_count": 19,
   "id": "13fc849b",
   "metadata": {},
   "outputs": [
    {
     "name": "stdout",
     "output_type": "stream",
     "text": [
      "HelloPython!\n",
      "string is accepted\n"
     ]
    }
   ],
   "source": [
    "import re\n",
    "\n",
    "def find(string):\n",
    "    special_char=re.compile('[@_!$%^&*()<>?/\\|}{~:]#')\n",
    "    \n",
    "    if special_char.search(string) == None:\n",
    "        return \"string is accepted\"\n",
    "    else:\n",
    "        return \"string not accpeted\"\n",
    "   \n",
    "\n",
    "s=\"HelloPython!\"\n",
    "print(s)\n",
    "print(find(s))"
   ]
  },
  {
   "cell_type": "code",
   "execution_count": null,
   "id": "1a73f684",
   "metadata": {},
   "outputs": [],
   "source": []
  }
 ],
 "metadata": {
  "kernelspec": {
   "display_name": "Python 3 (ipykernel)",
   "language": "python",
   "name": "python3"
  },
  "language_info": {
   "codemirror_mode": {
    "name": "ipython",
    "version": 3
   },
   "file_extension": ".py",
   "mimetype": "text/x-python",
   "name": "python",
   "nbconvert_exporter": "python",
   "pygments_lexer": "ipython3",
   "version": "3.9.12"
  }
 },
 "nbformat": 4,
 "nbformat_minor": 5
}
