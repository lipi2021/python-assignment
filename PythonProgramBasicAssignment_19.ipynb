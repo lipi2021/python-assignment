{
 "cells": [
  {
   "cell_type": "markdown",
   "id": "9596061c",
   "metadata": {},
   "source": [
    "Question1: Create a function that takes a string and returns a string in which each character is repeated once."
   ]
  },
  {
   "cell_type": "code",
   "execution_count": 2,
   "id": "394c8ba6",
   "metadata": {},
   "outputs": [
    {
     "name": "stdout",
     "output_type": "stream",
     "text": [
      "hello\n",
      "hheelllloo\n"
     ]
    }
   ],
   "source": [
    "input_string = input()\n",
    "output=\"\"\n",
    "for i in input_string:\n",
    "    output = output + i*2\n",
    "print(output)    "
   ]
  },
  {
   "cell_type": "markdown",
   "id": "46512054",
   "metadata": {},
   "source": [
    "Question2: Create a function that reverses a boolean value and returns the string \"boolean expected\"\n",
    "if another variable type is given."
   ]
  },
  {
   "cell_type": "code",
   "execution_count": 3,
   "id": "3d31f6c0",
   "metadata": {},
   "outputs": [],
   "source": [
    "def fuctionName(int, bool):\n",
    "    if int in range(...):\n",
    "        if bool == True:\n",
    "            return False\n",
    "        else:\n",
    "            return True"
   ]
  },
  {
   "cell_type": "code",
   "execution_count": null,
   "id": "2c5323f7",
   "metadata": {},
   "outputs": [],
   "source": []
  }
 ],
 "metadata": {
  "kernelspec": {
   "display_name": "Python 3 (ipykernel)",
   "language": "python",
   "name": "python3"
  },
  "language_info": {
   "codemirror_mode": {
    "name": "ipython",
    "version": 3
   },
   "file_extension": ".py",
   "mimetype": "text/x-python",
   "name": "python",
   "nbconvert_exporter": "python",
   "pygments_lexer": "ipython3",
   "version": "3.9.12"
  }
 },
 "nbformat": 4,
 "nbformat_minor": 5
}
