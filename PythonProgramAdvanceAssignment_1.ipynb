{
 "cells": [
  {
   "cell_type": "markdown",
   "id": "984afe91",
   "metadata": {},
   "source": [
    "Q1:Write a function that takes a list of lists and returns the value of all of the symbols in it, where each symbol adds or takes something from the total score.\n",
    "Symbol values:\n",
    "(#) = 5 O = 3 X = 1 ! = -1 !! = -3 !!! = -5\n",
    "\n",
    "A list of lists containing 2 #s, a O, and a !!! would equal (0 + 5 + 5 + 3 - 5) 8.\n",
    "\n",
    "If the final score is negative, return 0 (e.g. 3 #s, 3 !!s, 2 !!!s and a X would be (0 + 5 + 5 + 5 - 3 - 3 - 3 - 5 - 5 + 1) -3, so return 0.\n",
    "\n",
    "Examples\n",
    "\n",
    "check_score([ [\"#\", \"!\"], [\"!!\", \"X\"] ]) ➞ 2\n",
    "\n",
    "check_score([ [\"!!!\", \"O\", \"!\"], [\"X\", \"#\", \"!!!\"], [\"!!\", \"X\", \"O\"] ]) ➞ -1"
   ]
  },
  {
   "cell_type": "code",
   "execution_count": 3,
   "id": "5f0a6303",
   "metadata": {},
   "outputs": [
    {
     "name": "stdout",
     "output_type": "stream",
     "text": [
      "2\n",
      "-1\n"
     ]
    }
   ],
   "source": [
    "def check_score(a):\n",
    "    symbol_values = {'#':5, 'O' : 3, 'X' : 1, '!' : -1, '!!': -3, '!!!' : -5}\n",
    "    l1 = []\n",
    "    sum1 = 0\n",
    "    for i in a:\n",
    "        for j in i:\n",
    "            if j in symbol_values:\n",
    "                l1.append(symbol_values[j])\n",
    "    for num in l1:\n",
    "        sum1+=num\n",
    "    print(sum1)\n",
    "        \n",
    "a = [ [\"#\", \"!\"], [\"!!\", \"X\"] ]\n",
    "check_score(a)\n",
    "\n",
    "a = [ [\"!!!\", \"O\", \"!\"], [\"X\", \"#\", \"!!!\"], [\"!!\", \"X\", \"O\"] ]\n",
    "check_score(a)"
   ]
  },
  {
   "cell_type": "markdown",
   "id": "22ed1c49",
   "metadata": {},
   "source": [
    "Q2. Create a function that takes a variable number of arguments, each argument representing the number of items in a group, and returns the number of permutations (combinations) of items that you could get by taking one item from each group.\n",
    "Examples\n",
    "combinations(2, 3) ➞ 6\n",
    "combinations(3, 7, 4) ➞ 84\n",
    "combinations(2, 3, 4, 5) ➞ 120"
   ]
  },
  {
   "cell_type": "code",
   "execution_count": 15,
   "id": "3b3a88e7",
   "metadata": {},
   "outputs": [
    {
     "name": "stdout",
     "output_type": "stream",
     "text": [
      "(1, 2, 3)\n",
      "(1, 3, 2)\n",
      "(2, 1, 3)\n",
      "(2, 3, 1)\n",
      "(3, 1, 2)\n",
      "(3, 2, 1)\n"
     ]
    }
   ],
   "source": [
    "from itertools import permutations\n",
    "\n",
    "perm = permutations([1, 2, 3])\n",
    "\n",
    "for i in list(perm):\n",
    "    print (i)\n"
   ]
  },
  {
   "cell_type": "code",
   "execution_count": 16,
   "id": "43de8932",
   "metadata": {},
   "outputs": [
    {
     "name": "stdout",
     "output_type": "stream",
     "text": [
      "(1, 2)\n",
      "(1, 3)\n",
      "(2, 1)\n",
      "(2, 3)\n",
      "(3, 1)\n",
      "(3, 2)\n"
     ]
    }
   ],
   "source": [
    "\n",
    "from itertools import permutations\n",
    "\n",
    "perm = permutations([1, 2, 3], 2)\n",
    "\n",
    "for i in list(perm):\n",
    "    print (i)\n"
   ]
  },
  {
   "cell_type": "code",
   "execution_count": 34,
   "id": "01a675ad",
   "metadata": {},
   "outputs": [
    {
     "name": "stdout",
     "output_type": "stream",
     "text": [
      "(1, 2)\n",
      "(1, 3)\n",
      "(2, 3)\n"
     ]
    }
   ],
   "source": [
    "\n",
    "from itertools import combinations\n",
    "\n",
    "comb = combinations([1, 2, 3], 2)\n",
    "\n",
    "for i in list(comb):\n",
    "    print (i)\n",
    "\n",
    "\n"
   ]
  },
  {
   "cell_type": "markdown",
   "id": "d7103f16",
   "metadata": {},
   "source": [
    "3. Create a function that takes a string as an argument and returns the Morsecode equivalent.\n",
    "Examples:encode_morse(\"EDABBIT CHALLENGE\") ➞ \". -.. .- -... -... .. - -.-. .... .- .-.. .-..\n",
    ". -. --. .\"\n",
    "encode_morse(\"HELP ME !\") ➞ \".... . .-.. .--. -- . -.-.--\"\n",
    "This dictionary can be used for coding:\n",
    "'A': '.-', 'B': '-...', 'C': '-.-.', 'D': '-..', 'E': '.', 'F': '..-.',\n",
    "  'G': '--.', 'H': '....', 'I': '..', 'J': '.---', 'K': '-.-', 'L': '.-..',\n",
    "  'M': '--', 'N': '-.', 'O': '---', 'P': '.--.', 'Q': '--.-', 'R': '.-.',\n",
    "  'S': '...', 'T': '-', 'U': '..-', 'V': '...-', 'W': '.--', 'X': '-..-',\n",
    "  'Y': '-.--', 'Z': '--..', ' ': ' ', '0': '-----',\n",
    "  '1': '.----', '2': '..---', '3': '...--', '4': '....-', '5': '.....',\n",
    "  '6': '-....', '7': '--...', '8': '---..', '9': '----.',\n",
    "  '&': '.-...', \"'\": '.----.', '@': '.--.-.', ')': '-.--.-', '(': '-.--.',\n",
    "  ':': '---...', ',': '--..--', '=': '-...-', '!': '-.-.--', '.': '.-.-.-',\n",
    "  '-': '-....-', '+': '.-.-.', '\"': '.-..-.', '?': '..--..', '/': '-..-.'\n",
    "}"
   ]
  },
  {
   "cell_type": "code",
   "execution_count": 37,
   "id": "edcf5228",
   "metadata": {},
   "outputs": [],
   "source": [
    "def encode_morse(a):\n",
    "    \n",
    "    char_to_dots = { 'A': '.-', 'B': '-...', 'C': '-.-.', 'D': '-..', 'E': '.', 'F': '..-.', 'G': '--.', \n",
    "                'H': '....', 'I': '..', 'J': '.---', 'K': '-.-', 'L': '.-..', 'M': '--', 'N': '-.', \n",
    "                'O': '---', 'P': '.--.', 'Q': '--.-', 'R': '.-.', 'S': '...', 'T': '-', 'U': '..-', \n",
    "                'V': '...-', 'W': '.--', 'X': '-..-', 'Y': '-.--', 'Z': '--..', '': '', '0': '-----', \n",
    "                '1': '.----', '2': '..---', '3': '...--', '4': '....-', '5': '.....', '6': '-....', \n",
    "                '7': '--...', '8': '---..', '9': '----.', '&': '.-...', \"'\": '.----.', '@': '.--.-.', \n",
    "                ')': '-.--.-', '(': '-.--.', ':': '---...', ',': '--..--', '=': '-...-', '!': '-.-.--',\n",
    "                '.': '.-.-.-', '-': '-....-', '+': '.-.-.', '\"': '.-..-.', '?': '..--..', '/': '-..-.' }\n",
    "   \n",
    "    b = []\n",
    "    for j in a:\n",
    "        for i in char_to_dots.keys():\n",
    "            if j == i:\n",
    "                x = char_to_dots.get(i)\n",
    "                b.append(x)\n",
    "    c = ''.join(b)\n",
    "    print(c) "
   ]
  },
  {
   "cell_type": "code",
   "execution_count": 38,
   "id": "a0dd8053",
   "metadata": {},
   "outputs": [
    {
     "name": "stdout",
     "output_type": "stream",
     "text": [
      ".-...--...-.....--.-......-.-...-...-.--..\n"
     ]
    }
   ],
   "source": [
    "encode_morse(\"EDABBIT CHALLENGE\")"
   ]
  },
  {
   "cell_type": "code",
   "execution_count": 39,
   "id": "ebae561d",
   "metadata": {},
   "outputs": [
    {
     "name": "stdout",
     "output_type": "stream",
     "text": [
      "......-...--.--.-.-.--\n"
     ]
    }
   ],
   "source": [
    "encode_morse(\"HELP ME !\") "
   ]
  },
  {
   "cell_type": "markdown",
   "id": "c2593964",
   "metadata": {},
   "source": [
    "4. Write a function that takes a number and returns True if it's a prime; False otherwise. The number can be 2^64-1 (2 to the power of 63, not XOR). With the standard technique it would be O(2^64-1), which is much too large for the 10 second time limit.\n",
    "Examples\n",
    "\n",
    "prime(7) ➞ True\n",
    "\n",
    "prime(56963) ➞ True\n",
    "\n",
    "prime(5151512515524) ➞ False"
   ]
  },
  {
   "cell_type": "code",
   "execution_count": 40,
   "id": "44339e75",
   "metadata": {},
   "outputs": [],
   "source": [
    "def prime(a):\n",
    "\n",
    "    #a = 5151512515524\n",
    "    l1 = []\n",
    "    for i in range(1, a+1):\n",
    "        if (a%i) == 0:\n",
    "            l1.append(i)\n",
    "            if len(l1)>4:\n",
    "                break\n",
    "    if len(l1)>2:\n",
    "        print(False)\n",
    "    else:\n",
    "        print(True) "
   ]
  },
  {
   "cell_type": "code",
   "execution_count": 41,
   "id": "5c210347",
   "metadata": {},
   "outputs": [
    {
     "name": "stdout",
     "output_type": "stream",
     "text": [
      "True\n"
     ]
    }
   ],
   "source": [
    "prime(7)"
   ]
  },
  {
   "cell_type": "code",
   "execution_count": null,
   "id": "707c18e5",
   "metadata": {},
   "outputs": [],
   "source": []
  }
 ],
 "metadata": {
  "kernelspec": {
   "display_name": "Python 3 (ipykernel)",
   "language": "python",
   "name": "python3"
  },
  "language_info": {
   "codemirror_mode": {
    "name": "ipython",
    "version": 3
   },
   "file_extension": ".py",
   "mimetype": "text/x-python",
   "name": "python",
   "nbconvert_exporter": "python",
   "pygments_lexer": "ipython3",
   "version": "3.9.12"
  }
 },
 "nbformat": 4,
 "nbformat_minor": 5
}
