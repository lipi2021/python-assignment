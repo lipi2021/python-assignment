{
 "cells": [
  {
   "cell_type": "markdown",
   "id": "4b9e0f33",
   "metadata": {},
   "source": [
    "Question 1\n",
    "Create a function that takes a number as an argument and returns True or False depending\n",
    "on whether the number is symmetrical or not. A number is symmetrical when it is the same as\n",
    "its reverse.\n",
    "Examples\n",
    "is_symmetrical(7227) ➞ True\n",
    "is_symmetrical(12567) ➞ False\n",
    "is_symmetrical(44444444) ➞ True\n",
    "is_symmetrical(9939) ➞ False\n",
    "is_symmetrical(1112111) ➞ True"
   ]
  },
  {
   "cell_type": "code",
   "execution_count": 1,
   "id": "0a939fd7",
   "metadata": {},
   "outputs": [
    {
     "name": "stdout",
     "output_type": "stream",
     "text": [
      "True\n",
      "False\n",
      "True\n",
      "False\n",
      "True\n"
     ]
    }
   ],
   "source": [
    "def is_symmetrical(num):\n",
    "    return str(num) == str(num)[::-1]\n",
    "\n",
    "print(is_symmetrical(7227))\n",
    "print(is_symmetrical(12567)) \n",
    "print(is_symmetrical(44444444)) \n",
    "print(is_symmetrical(9939)) \n",
    "print(is_symmetrical(1112111)) "
   ]
  },
  {
   "cell_type": "markdown",
   "id": "c6e2cbd0",
   "metadata": {},
   "source": [
    "Question 2\n",
    "Given a string of numbers separated by a comma and space, return the product of the\n",
    "numbers.\n",
    "Examples\n",
    "multiply_nums(\"2, 3\") ➞ 6\n",
    "multiply_nums(\"1, 2, 3, 4\") ➞ 24\n",
    "multiply_nums(\"54, 75, 453, 0\") ➞ 0\n",
    "multiply_nums(\"10, -2\") ➞ -20"
   ]
  },
  {
   "cell_type": "code",
   "execution_count": 2,
   "id": "c84c35ca",
   "metadata": {},
   "outputs": [
    {
     "name": "stdout",
     "output_type": "stream",
     "text": [
      "6\n",
      "24\n",
      "0\n",
      "-20\n"
     ]
    }
   ],
   "source": [
    "def multiply_nums(nums):\n",
    "    # Split the string into a list of numbers\n",
    "    num_list = [int(x) for x in nums.split(\", \")]\n",
    "    # Initialize a variable to store the product\n",
    "    product = 1\n",
    "    # Iterate through the list of numbers\n",
    "    for num in num_list:\n",
    "        # Multiply the product by the current number\n",
    "        product *= num\n",
    "    # Return the final product\n",
    "    return product\n",
    "\n",
    "print(multiply_nums(\"2, 3\")) \n",
    "print(multiply_nums(\"1, 2, 3, 4\")) \n",
    "print(multiply_nums(\"54, 75, 453, 0\"))\n",
    "print(multiply_nums(\"10, -2\"))"
   ]
  },
  {
   "cell_type": "markdown",
   "id": "831c4d81",
   "metadata": {},
   "source": [
    "Question 3\n",
    "Create a function that squares every digit of a number.\n",
    "Examples\n",
    "square_digits(9119) ➞ 811181\n",
    "square_digits(2483) ➞ 416649\n",
    "square_digits(3212) ➞ 9414"
   ]
  },
  {
   "cell_type": "code",
   "execution_count": 3,
   "id": "b1900585",
   "metadata": {},
   "outputs": [
    {
     "name": "stdout",
     "output_type": "stream",
     "text": [
      "811181\n",
      "416649\n",
      "9414\n"
     ]
    }
   ],
   "source": [
    "def square_digits(num):\n",
    "    # Convert the number to a string\n",
    "    num_str = str(num)\n",
    "    # Initialize an empty list to store the squared digits\n",
    "    squared_digits = []\n",
    "    # Iterate through the string\n",
    "    for char in num_str:\n",
    "        # Square the current digit and add it to the list\n",
    "        squared_digits.append(int(char)**2)\n",
    "    # Join the list of squared digits into a single string\n",
    "    squared_num_str = ''.join(map(str,squared_digits))\n",
    "    # Return the squared number\n",
    "    return int(squared_num_str)\n",
    "\n",
    "print(square_digits(9119)) \n",
    "print(square_digits(2483)) \n",
    "print(square_digits(3212)) "
   ]
  },
  {
   "cell_type": "markdown",
   "id": "dc19113d",
   "metadata": {},
   "source": [
    "Question 4\n",
    "Create a function that sorts a list and removes all duplicate items from it.\n",
    "Examples\n",
    "setify([1, 3, 3, 5, 5]) ➞ [1, 3, 5]\n",
    "setify([4, 4, 4, 4]) ➞ [4]\n",
    "setify([5, 7, 8, 9, 10, 15]) ➞ [5, 7, 8, 9, 10, 15]\n",
    "setify([3, 3, 3, 2, 1]) ➞ [1, 2, 3]"
   ]
  },
  {
   "cell_type": "code",
   "execution_count": 5,
   "id": "ce0f650e",
   "metadata": {},
   "outputs": [
    {
     "name": "stdout",
     "output_type": "stream",
     "text": [
      "[1, 3, 5]\n",
      "[4]\n",
      "[5, 7, 8, 9, 10, 15]\n",
      "[1, 2, 3]\n"
     ]
    }
   ],
   "source": [
    "def setify(lst):\n",
    "    #Remove duplicate items using set\n",
    "    lst=list(set(lst))\n",
    "    #sort the list\n",
    "    lst.sort()\n",
    "    return lst\n",
    "\n",
    "print(setify([1, 3, 3, 5, 5])) \n",
    "print(setify([4, 4, 4, 4])) \n",
    "print(setify([5, 7, 8, 9, 10, 15])) \n",
    "print(setify([3, 3, 3, 2, 1])) "
   ]
  },
  {
   "cell_type": "markdown",
   "id": "d090761e",
   "metadata": {},
   "source": [
    "Question 5\n",
    "Create a function that returns the mean of all digits.\n",
    "Examples\n",
    "mean(42) ➞ 3\n",
    "mean(12345) ➞ 3\n",
    "mean(666) ➞ 6"
   ]
  },
  {
   "cell_type": "code",
   "execution_count": 6,
   "id": "60e911be",
   "metadata": {},
   "outputs": [
    {
     "name": "stdout",
     "output_type": "stream",
     "text": [
      "3.0\n",
      "3.0\n",
      "6.0\n"
     ]
    }
   ],
   "source": [
    "def mean(num):\n",
    "    # Convert the number to a string\n",
    "    num_str = str(num)\n",
    "    # Initialize a variable to store the sum of digits\n",
    "    digit_sum = 0\n",
    "    # Initialize a variable to store the number of digits\n",
    "    digit_count = 0\n",
    "    # Iterate through the string\n",
    "    for char in num_str:\n",
    "        # Add the current digit to the sum\n",
    "        digit_sum += int(char)\n",
    "        # Increment the digit count\n",
    "        digit_count += 1\n",
    "    # Return the mean of the digits\n",
    "    return digit_sum/digit_count\n",
    "\n",
    "print(mean(42)) \n",
    "print(mean(12345)) \n",
    "print(mean(666)) \n"
   ]
  },
  {
   "cell_type": "code",
   "execution_count": null,
   "id": "eec9d8a8",
   "metadata": {},
   "outputs": [],
   "source": []
  }
 ],
 "metadata": {
  "kernelspec": {
   "display_name": "Python 3 (ipykernel)",
   "language": "python",
   "name": "python3"
  },
  "language_info": {
   "codemirror_mode": {
    "name": "ipython",
    "version": 3
   },
   "file_extension": ".py",
   "mimetype": "text/x-python",
   "name": "python",
   "nbconvert_exporter": "python",
   "pygments_lexer": "ipython3",
   "version": "3.9.12"
  }
 },
 "nbformat": 4,
 "nbformat_minor": 5
}
