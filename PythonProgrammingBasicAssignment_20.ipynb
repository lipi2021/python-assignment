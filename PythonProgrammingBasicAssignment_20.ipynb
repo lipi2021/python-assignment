{
 "cells": [
  {
   "cell_type": "markdown",
   "id": "ee42de25",
   "metadata": {},
   "source": [
    "Question1\n",
    "Create a function that takes a list of strings and integers, and filters out the list so that it returns a list of integers only.\n",
    "Examples\n",
    "filter_list([1, 2, 3, :\"a\", \"b\", 4]) ➞ [1, 2, 3, 4]\n",
    "filter_list([\"A\", 0, \"Edabit\", 1729, \"Python\", \"1729\"]) ➞ [0, 1729]\n",
    "filter_list([\"Nothing\", \"here\"]) ➞ []"
   ]
  },
  {
   "cell_type": "code",
   "execution_count": 6,
   "id": "3f3aeb63",
   "metadata": {},
   "outputs": [
    {
     "name": "stdout",
     "output_type": "stream",
     "text": [
      "[['A', 0, 'Edabit', 1729, 'Python', '1729']]\n"
     ]
    }
   ],
   "source": [
    "def filter_list(l):  \n",
    "    output = []\n",
    "    for i in l:  \n",
    "        if type(i) != str:  \n",
    "            output.append(i)  \n",
    "    return output\n",
    "\n",
    "print(filter_list([[\"A\", 0, \"Edabit\", 1729, \"Python\", \"1729\"]]))"
   ]
  },
  {
   "cell_type": "markdown",
   "id": "287a80bf",
   "metadata": {},
   "source": [
    "Question2\n",
    "Given a list of numbers, create a function which returns the list but with each element's index in the list added to itself. This means you add 0 to the number at index 0, add 1 to the number at index 1, etc...\n",
    "Examples\n",
    "add_indexes([0, 0, 0, 0, 0]) ➞ [0, 1, 2, 3, 4]\n",
    "add_indexes([1, 2, 3, 4, 5]) ➞ [1, 3, 5, 7, 9]\n",
    "add_indexes([5, 4, 3, 2, 1]) ➞ [5, 5, 5, 5, 5]"
   ]
  },
  {
   "cell_type": "markdown",
   "id": "1077e0e9",
   "metadata": {},
   "source": [
    "Question3\n",
    "Create a function that takes the height and radius of a cone as arguments and returns the\n",
    "volume of the cone rounded to the nearest hundredth. See the resources tab for the formula."
   ]
  },
  {
   "cell_type": "code",
   "execution_count": 8,
   "id": "2e54b6e7",
   "metadata": {},
   "outputs": [
    {
     "name": "stdout",
     "output_type": "stream",
     "text": [
      "Volume Of Cone :  12.566370614359172\n",
      "Surface Area Of Cone :  94.2477796076938\n"
     ]
    }
   ],
   "source": [
    "\n",
    "# Importing Math library for value Of PI\n",
    "import math\n",
    "pi = math.pi\n",
    "\n",
    "# Function to calculate Volume of Cone\n",
    "def volume(r, h):\n",
    "\treturn (1 / 3) * pi * r * r * h\n",
    "\n",
    "# Function To Calculate Surface Area of Cone\n",
    "def surfacearea(r, s):\n",
    "\treturn pi * r * s + pi * r * r\n",
    "\n",
    "# Driver Code\n",
    "radius = float(2)\n",
    "height = float(3)\n",
    "slat_height = float(13)\n",
    "print( \"Volume Of Cone : \", volume(radius, height) )\n",
    "print( \"Surface Area Of Cone : \", surfacearea(radius, slat_height) )\n"
   ]
  },
  {
   "cell_type": "markdown",
   "id": "f4344330",
   "metadata": {},
   "source": [
    "Question4\n",
    "This Triangular Number Sequence is generated from a pattern of dots that form a triangle. The first 5 numbers of the sequence, or dots, are: 1, 3, 6, 10, 15. This means that the first triangle has just one dot, the second one has three dots, the third one has 6 dots and so on.\n",
    "Write a function that gives the number of dots with its corresponding triangle number of the\n",
    "sequence.\n",
    "Examples\n",
    "triangle(1) ➞ 1\n",
    "triangle(6) ➞ 21\n",
    "triangle(215) ➞ 23220"
   ]
  },
  {
   "cell_type": "markdown",
   "id": "874cc8e4",
   "metadata": {},
   "source": [
    "Question5\n",
    "Create a function that takes a list of numbers between 1 and 10 (excluding one number) and\n",
    "returns the missing number.\n",
    "Examples\n",
    "missing_num([1, 2, 3, 4, 6, 7, 8, 9, 10]) ➞ 5\n",
    "missing_num([7, 2, 3, 6, 5, 9, 1, 4, 8]) ➞ 10\n",
    "missing_num([10, 5, 1, 2, 4, 6, 8, 3, 9]) ➞ 7"
   ]
  },
  {
   "cell_type": "code",
   "execution_count": 18,
   "id": "5030bf12",
   "metadata": {},
   "outputs": [
    {
     "name": "stdout",
     "output_type": "stream",
     "text": [
      "[3, 5, 8]\n"
     ]
    }
   ],
   "source": [
    "def find_missing(lst):\n",
    "    return [i for x, y in zip(lst, lst[1:])\n",
    "        for i in range(x + 1, y) if y - x > 1]\n",
    " \n",
    "# Driver code\n",
    "lst = [1, 2, 4, 6, 7, 9, 10]\n",
    "print(find_missing(lst))"
   ]
  },
  {
   "cell_type": "code",
   "execution_count": null,
   "id": "87376af1",
   "metadata": {},
   "outputs": [],
   "source": []
  }
 ],
 "metadata": {
  "kernelspec": {
   "display_name": "Python 3 (ipykernel)",
   "language": "python",
   "name": "python3"
  },
  "language_info": {
   "codemirror_mode": {
    "name": "ipython",
    "version": 3
   },
   "file_extension": ".py",
   "mimetype": "text/x-python",
   "name": "python",
   "nbconvert_exporter": "python",
   "pygments_lexer": "ipython3",
   "version": "3.9.12"
  }
 },
 "nbformat": 4,
 "nbformat_minor": 5
}
