{
 "cells": [
  {
   "cell_type": "markdown",
   "id": "c111e773",
   "metadata": {},
   "source": [
    "Q1. Write a Python program to covert kilometers to miles."
   ]
  },
  {
   "cell_type": "code",
   "execution_count": 8,
   "id": "3b3bb484",
   "metadata": {},
   "outputs": [
    {
     "name": "stdout",
     "output_type": "stream",
     "text": [
      "Enter the value in kilometers: 50\n",
      "The entered value in miles:  31.068550000000002\n"
     ]
    }
   ],
   "source": [
    "# Python program to convert kilometers to miles\n",
    "\n",
    "kilometers = float(input(\"Enter the value in kilometers: \"))\n",
    "conversion_factor = 0.621371\n",
    "miles = kilometers * conversion_factor\n",
    "print(\"The entered value in miles: \", miles)"
   ]
  },
  {
   "cell_type": "markdown",
   "id": "7d46bf17",
   "metadata": {},
   "source": [
    "Q2. Write a Python program to covert Celcius to Fhrenheit."
   ]
  },
  {
   "cell_type": "code",
   "execution_count": 9,
   "id": "a7c2b222",
   "metadata": {},
   "outputs": [
    {
     "name": "stdout",
     "output_type": "stream",
     "text": [
      "Enter temperature in Celsius: 30\n",
      "The entered value in fahrenheit:  86.0\n"
     ]
    }
   ],
   "source": [
    "# Python program to covert celcius to fahrenheit #\n",
    "\n",
    "celsius = float(input(\"Enter temperature in Celsius: \"))\n",
    "fahrenheit = (celsius * 9/5) + 32\n",
    "print(\"The entered value in fahrenheit: \", fahrenheit)"
   ]
  },
  {
   "cell_type": "markdown",
   "id": "d683d641",
   "metadata": {},
   "source": [
    "Q3. Write a python program to display calendar."
   ]
  },
  {
   "cell_type": "code",
   "execution_count": 11,
   "id": "b4f1b0f3",
   "metadata": {},
   "outputs": [
    {
     "name": "stdout",
     "output_type": "stream",
     "text": [
      "Enter year: 2019\n",
      "Enter month: 08\n",
      "    August 2019\n",
      "Mo Tu We Th Fr Sa Su\n",
      "          1  2  3  4\n",
      " 5  6  7  8  9 10 11\n",
      "12 13 14 15 16 17 18\n",
      "19 20 21 22 23 24 25\n",
      "26 27 28 29 30 31\n",
      "\n"
     ]
    }
   ],
   "source": [
    "# Python program to display calendar\n",
    "\n",
    "import calendar  \n",
    "# Enter the month and year  \n",
    "yy = int(input(\"Enter year: \"))  \n",
    "mm = int(input(\"Enter month: \"))  \n",
    "  \n",
    "# display the calendar  \n",
    "print(calendar.month(yy,mm))  "
   ]
  },
  {
   "cell_type": "markdown",
   "id": "19e1ba7d",
   "metadata": {},
   "source": [
    "Q4. Write a Python program to solve quadratic equation."
   ]
  },
  {
   "cell_type": "code",
   "execution_count": 6,
   "id": "51694dc9",
   "metadata": {},
   "outputs": [
    {
     "name": "stdout",
     "output_type": "stream",
     "text": [
      "Enter the value of a: 4\n",
      "Enter the value of b: 10\n",
      "Enter the value of c: 8\n",
      "Two Different Complex roots\n",
      "-1.25  +i  5.291502622129181\n",
      "-1.25  -i  5.291502622129181\n"
     ]
    }
   ],
   "source": [
    "# Python program to solve quadratic equation\n",
    "import math\n",
    "def roots_of_equation (a,b,c):\n",
    "    dis =b**2-4*a*c\n",
    "    sqrt_dis=math.sqrt(abs(dis))\n",
    "    if dis>0:\n",
    "        print(\"Two Real and Different roots\")\n",
    "        print((-b + sqrt_dis)/(2*a))\n",
    "        print((-b - sqrt_dis)/(2*a))\n",
    "    elif dis == 0:\n",
    "        print(\"Real and Equal roots\")\n",
    "        print(-b/(2*a))\n",
    "    else:\n",
    "        print(\"Two Different Complex roots\")\n",
    "        print(-b / (2*a), \" +i \", sqrt_dis)\n",
    "        print(-b / (2*a), \" -i \", sqrt_dis)\n",
    "a = float(input('Enter the value of a: '))\n",
    "b = float(input('Enter the value of b: '))\n",
    "c = float(input('Enter the value of c: '))\n",
    "if a == 0: \n",
    "    print(\"Input correct Quadratic Equation\")   \n",
    "else:\n",
    "    roots_of_equation (a,b,c)\n",
    "                "
   ]
  },
  {
   "cell_type": "markdown",
   "id": "dad23027",
   "metadata": {},
   "source": [
    "Q5: Write a Python program to swap two variables without temp variable."
   ]
  },
  {
   "cell_type": "code",
   "execution_count": 7,
   "id": "2077fdba",
   "metadata": {},
   "outputs": [
    {
     "name": "stdout",
     "output_type": "stream",
     "text": [
      "Enter the value of a?14\n",
      "Enter the value of b?20\n",
      "Before swapping numbers: 14   20\n",
      "\n",
      "After swapping: 20   14\n",
      "\n"
     ]
    }
   ],
   "source": [
    "# Python program to swap to variables without temp variable\n",
    "\n",
    "a = float(input(\"Enter the value of a?\"))  \n",
    "b = float(input(\"Enter the value of b?\"))  \n",
    "print(\"Before swapping numbers: %d   %d\\n\" %(a,b))  \n",
    " \n",
    "a = a + b     \n",
    "b = a - b    \n",
    "a = a - b     \n",
    "print(\"After swapping: %d   %d\\n\"%(a,b)) "
   ]
  },
  {
   "cell_type": "code",
   "execution_count": null,
   "id": "eb5400d0",
   "metadata": {},
   "outputs": [],
   "source": []
  }
 ],
 "metadata": {
  "kernelspec": {
   "display_name": "Python 3 (ipykernel)",
   "language": "python",
   "name": "python3"
  },
  "language_info": {
   "codemirror_mode": {
    "name": "ipython",
    "version": 3
   },
   "file_extension": ".py",
   "mimetype": "text/x-python",
   "name": "python",
   "nbconvert_exporter": "python",
   "pygments_lexer": "ipython3",
   "version": "3.9.7"
  }
 },
 "nbformat": 4,
 "nbformat_minor": 5
}
