{
 "cells": [
  {
   "cell_type": "markdown",
   "id": "b87fab4f",
   "metadata": {},
   "source": [
    "1. Write a function that takes a positive integer num and calculates how many dots exist in a pentagonal shape around the center dot on the Nth iteration."
   ]
  },
  {
   "cell_type": "code",
   "execution_count": 1,
   "id": "af13576f",
   "metadata": {},
   "outputs": [
    {
     "name": "stdout",
     "output_type": "stream",
     "text": [
      "5th Centered pentagonal number :  51\n"
     ]
    }
   ],
   "source": [
    "def centered_pentagonal_Num(n):\n",
    "\n",
    "    return (5 * n * n - 5 * n + 2) // 2\n",
    "\n",
    "# Driver Code\n",
    "n = 5\n",
    "print(\"%sth Centered pentagonal number : \" %n,\n",
    "                    centered_pentagonal_Num(n))\n",
    "\n"
   ]
  },
  {
   "cell_type": "markdown",
   "id": "5d9b1d20",
   "metadata": {},
   "source": [
    "2. Make a function that encrypts a given input with these steps:\n",
    "Input: \"apple\"\n",
    "Step 1: Reverse the input: &quot;elppa&quot;\n",
    "Step 2: Replace all vowels using the following chart:\n",
    "a => 0\n",
    "e => 1\n",
    "i => 2\n",
    "o => 2\n",
    "u => 3\n",
    "#\"1lpp0\"\n",
    "\n",
    "Step 3: Add &quot;aca&quot; to the end of the word: &quot;1lpp0aca&quot;\n",
    "Output: \"1lpp0aca\"\n",
    "Examples\n",
    "encrypt(\"banana\") ➞ \"0n0n0baca\"\n",
    "encrypt(\"karaca\") ➞ \"0c0r0kaca\"\n",
    "encrypt(\"burak\") ➞ \"k0r3baca\"\n",
    "encrypt(\"alpaca\") ➞ \"0c0pl0aca\""
   ]
  },
  {
   "cell_type": "code",
   "execution_count": 2,
   "id": "95a9d669",
   "metadata": {},
   "outputs": [
    {
     "name": "stdout",
     "output_type": "stream",
     "text": [
      "0n0n0baca\n"
     ]
    }
   ],
   "source": [
    "# Create an input field\n",
    "encrypt = \"banana\"\n",
    "\n",
    "# Create a dictionary to store keys\n",
    "# and values\n",
    "dict = {\"a\": \"0\", \"e\": \"1\",\n",
    "\t\t\"i\": \"2\", \"o\": \"2\",\n",
    "\t\t\"u\": \"3\"}\n",
    "\n",
    "# Reverse the string\n",
    "num = encrypt[::-1]\n",
    "\n",
    "# Replace vowels using loops\n",
    "for i in dict:\n",
    "\tnum = num.replace(i, dict[i])\n",
    "\n",
    "# f- strings which improves readability\n",
    "print(f\"{num}aca\")\n"
   ]
  },
  {
   "cell_type": "markdown",
   "id": "677d7ecd",
   "metadata": {},
   "source": [
    "3. Given the month and year as numbers, return whether that month contains a Friday 13th.(i.e You can check Python&#39;s datetime module)\n",
    "Examples\n",
    "has_friday_13(3, 2020) ➞ True\n",
    "has_friday_13(10, 2017) ➞ True\n",
    "has_friday_13(1, 1985) ➞ False"
   ]
  },
  {
   "cell_type": "code",
   "execution_count": 9,
   "id": "8f6003b4",
   "metadata": {},
   "outputs": [
    {
     "name": "stdout",
     "output_type": "stream",
     "text": [
      "enter the year YYYY : 2020\n",
      "enter the month MM : 3\n",
      "False\n"
     ]
    }
   ],
   "source": [
    "import calendar \n",
    "y=int(input(\"enter the year YYYY : \")) \n",
    "m=int(input(\"enter the month MM : \")) \n",
    "a=calendar.month(y,m) \n",
    "s=a.index(\"Mo\") \n",
    "a=(a[s:]) \n",
    "sun=21 \n",
    "f=0 \n",
    "for mon in range(0,sun,3): \n",
    " temp=[] \n",
    " for j in range(mon,len(a),sun): \n",
    "        mon=j \n",
    " val=(a[mon:mon+2]) \n",
    " temp.append(val)  \n",
    " if \"Fr\" in temp and \"13\" in temp: \n",
    "  #print(\"There is a friday with date 13th in. \"+str(m)+\" month of the year \"+str(y)) \n",
    "  print(True) \n",
    "  f=1 \n",
    "  break \n",
    "if f==0: \n",
    " print(False) \n",
    " #print(\"There is no friday with date 13th in \"+str(m)+\" month of the year \"+str(y)) "
   ]
  },
  {
   "cell_type": "markdown",
   "id": "d7c5b3f4",
   "metadata": {},
   "source": [
    "4. Write a regular expression that will help us count how many bad cookies are produced every day. You must use RegEx negative lookbehind.\n",
    "Example\n",
    "lst = [\"bad cookie\", \"good cookie\",\"bad cookie\",\"good cookie\",\"good cookie\"]\n",
    "pattern = \"yourregularexpressionhere\"\n",
    "len(re.findall(pattern, \", \".join(lst))) ➞ 2"
   ]
  },
  {
   "cell_type": "code",
   "execution_count": null,
   "id": "ca6ced85",
   "metadata": {},
   "outputs": [],
   "source": []
  },
  {
   "cell_type": "markdown",
   "id": "9e162402",
   "metadata": {},
   "source": [
    "5. Given a list of words in the singular form, return a set of those words in the plural form if they appear more than once in the list.\n",
    "Examples\n",
    "pluralize([\"cow\", \"pig\", \"cow\",\"cow\"]) ➞ { \"cows\", \"pig\" }\n",
    "pluralize([\"table\",\"table\",\"table\"]) ➞ {\"tables\" }\n",
    "\n",
    "pluralize([\"chair\",\"pencil\",\"arm\"]) ➞ {\"chair\", \"pencil\",\"arm\" }"
   ]
  },
  {
   "cell_type": "code",
   "execution_count": 8,
   "id": "e9de9faa",
   "metadata": {},
   "outputs": [
    {
     "name": "stdout",
     "output_type": "stream",
     "text": [
      "chair - chairs\n",
      "pencil - pencils\n",
      "arm - arms\n",
      "cap - caps\n"
     ]
    }
   ],
   "source": [
    "import re\n",
    "def pluralize(noun):\n",
    "    if re.search('[sxz]$', noun):\n",
    "         return re.sub('$', 'es', noun)\n",
    "    elif re.search('[^aeioudgkprt]h$', noun):\n",
    "        return re.sub('$', 'es', noun)\n",
    "    elif re.search('[aeiou]y$', noun):\n",
    "        return re.sub('y$', 'ies', noun)\n",
    "    else:\n",
    "        return noun + 's'\n",
    "List=[\"chair\", \"pencil\", \"arm\", \"cap\"]\n",
    "for i in List:\n",
    "     print(i, '-', pluralize(i))"
   ]
  },
  {
   "cell_type": "code",
   "execution_count": null,
   "id": "b5ba77cd",
   "metadata": {},
   "outputs": [],
   "source": []
  }
 ],
 "metadata": {
  "kernelspec": {
   "display_name": "Python 3 (ipykernel)",
   "language": "python",
   "name": "python3"
  },
  "language_info": {
   "codemirror_mode": {
    "name": "ipython",
    "version": 3
   },
   "file_extension": ".py",
   "mimetype": "text/x-python",
   "name": "python",
   "nbconvert_exporter": "python",
   "pygments_lexer": "ipython3",
   "version": "3.9.12"
  }
 },
 "nbformat": 4,
 "nbformat_minor": 5
}
