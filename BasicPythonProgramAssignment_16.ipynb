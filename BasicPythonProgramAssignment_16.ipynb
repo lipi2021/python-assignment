{
 "cells": [
  {
   "cell_type": "markdown",
   "id": "c62b53d0",
   "metadata": {},
   "source": [
    "Q1. Write a function that stutters a word as if someone is struggling to read it. The first two letters are repeated twice with an ellipsis ... and space after each, and then the word is pronounced with a question mark ?."
   ]
  },
  {
   "cell_type": "code",
   "execution_count": 2,
   "id": "0a2368ca",
   "metadata": {},
   "outputs": [
    {
     "name": "stdout",
     "output_type": "stream",
     "text": [
      "in... in... incredible?\n"
     ]
    }
   ],
   "source": [
    "def shutter(word):\n",
    "    s=word[:2]\n",
    "    return ( 2* (s + '...')) + word + '?'\n",
    "\n",
    "print(stutter(\"incredible\"))"
   ]
  },
  {
   "cell_type": "markdown",
   "id": "1f6ab726",
   "metadata": {},
   "source": [
    "Q2.Create a function that takes an angle in radians and returns the corresponding angle in degrees rounded to one decimal place."
   ]
  },
  {
   "cell_type": "code",
   "execution_count": 3,
   "id": "b148cd43",
   "metadata": {},
   "outputs": [
    {
     "name": "stdout",
     "output_type": "stream",
     "text": [
      "180 / pi Degrees is equal to Radians : 1.0\n",
      "180 Degrees is equal to Radians : 3.141592653589793\n",
      "1 Degrees is equal to Radians : 0.017453292519943295\n"
     ]
    }
   ],
   "source": [
    "import math\n",
    " \n",
    "print(\"180 / pi Degrees is equal to Radians : \", end =\"\")\n",
    "print (math.radians(180 / math.pi))\n",
    " \n",
    "print(\"180 Degrees is equal to Radians : \", end =\"\")\n",
    "print (math.radians(180))\n",
    " \n",
    "print(\"1 Degrees is equal to Radians : \", end =\"\")\n",
    "print (math.radians(1))"
   ]
  },
  {
   "cell_type": "markdown",
   "id": "d1bdbafa",
   "metadata": {},
   "source": [
    "Question 3. In this challenge, establish if a given integer num is a Curzon number. If 1 plus 2 elevated to num is exactly divisible by 1 plus 2 multiplied by num, then num is a Curzon number. Given a non-negative integer num, implement a function that returns True if num is a Curzon number, or False otherwise."
   ]
  },
  {
   "cell_type": "code",
   "execution_count": 12,
   "id": "5adb44ca",
   "metadata": {},
   "outputs": [
    {
     "name": "stdout",
     "output_type": "stream",
     "text": [
      "Yes\n",
      "No\n"
     ]
    }
   ],
   "source": [
    "def checkIfCurzonNumber(N):\n",
    "\n",
    "    powerTerm, productTerm = 0, 0\n",
    "\n",
    "    powerTerm = pow(2, N) + 1\n",
    "\n",
    "    productTerm = 2 * N + 1\n",
    "\n",
    "    if (powerTerm % productTerm == 0):\n",
    "        print(\"Yes\")\n",
    "    else:\n",
    "        print(\"No\")\n",
    "\n",
    "if __name__ == '__main__':\n",
    "\n",
    "    N = 5\n",
    "    checkIfCurzonNumber(N)\n",
    "\n",
    "    N = 10\n",
    "    checkIfCurzonNumber(N)\n"
   ]
  },
  {
   "cell_type": "markdown",
   "id": "0343ca4a",
   "metadata": {},
   "source": [
    "Question 4.Given the side length x find the area of a hexagon.\n",
    "Examples\n",
    "area_of_hexagon(1) ➞ 2.6\n",
    "area_of_hexagon(2) ➞ 10.4\n",
    "area_of_hexagon(3) ➞ 23.4"
   ]
  },
  {
   "cell_type": "code",
   "execution_count": 13,
   "id": "398607cf",
   "metadata": {},
   "outputs": [
    {
     "name": "stdout",
     "output_type": "stream",
     "text": [
      "Area of hexagon: 64.952\n"
     ]
    }
   ],
   "source": [
    "\n",
    "from math import sqrt\n",
    "\n",
    "def hexagonArea(d) :\n",
    "\n",
    "    return (3 * sqrt(3) * pow(d, 2)) / 8\n",
    "\n",
    "if __name__ == \"__main__\" :\n",
    "\n",
    "    d = 10\n",
    "    print(\"Area of hexagon:\",\n",
    "        round(hexagonArea(d), 3))\n"
   ]
  },
  {
   "cell_type": "markdown",
   "id": "1e2962e4",
   "metadata": {},
   "source": [
    "Question 5. Create a function that returns a base-2 (binary) representation of a base-10 (decimal) string number. To convert is simple: ((2) means base-2 and (10) means base-10) 010101001(2) = 1 + 8 + 32 + 128.\n",
    "Going from right to left, the value of the most right bit is 1, now from that every bit to the left will be x2 the value, value of an 8 bit binary numbers are (256, 128, 64, 32, 16, 8, 4, 2, 1)."
   ]
  },
  {
   "cell_type": "code",
   "execution_count": 17,
   "id": "1bb1a1fb",
   "metadata": {},
   "outputs": [
    {
     "name": "stdout",
     "output_type": "stream",
     "text": [
      "Decimal equivalent of 11A in base 16 is 282\n"
     ]
    }
   ],
   "source": [
    "def val(c):\n",
    "    if c >= '0' and c <= '9':\n",
    "        return ord(c) - ord('0')\n",
    "    else:\n",
    "        return ord(c) - ord('A') + 10;\n",
    "\n",
    "def toDeci(str,base):\n",
    "    llen = len(str)\n",
    "    power = 1 \n",
    "    num = 0 \n",
    "\n",
    "    for i in range(llen - 1, -1, -1):\n",
    "        if val(str[i]) >= base:\n",
    "            print('Invalid Number')\n",
    "            return -1\n",
    "        num += val(str[i]) * power\n",
    "        power = power * base\n",
    "    return num\n",
    "\n",
    "strr = \"11A\"\n",
    "base = 16\n",
    "print('Decimal equivalent of', strr,\n",
    "            'in base', base, 'is',\n",
    "                toDeci(strr, base))\n",
    "\n"
   ]
  },
  {
   "cell_type": "code",
   "execution_count": null,
   "id": "846afd47",
   "metadata": {},
   "outputs": [],
   "source": []
  }
 ],
 "metadata": {
  "kernelspec": {
   "display_name": "Python 3 (ipykernel)",
   "language": "python",
   "name": "python3"
  },
  "language_info": {
   "codemirror_mode": {
    "name": "ipython",
    "version": 3
   },
   "file_extension": ".py",
   "mimetype": "text/x-python",
   "name": "python",
   "nbconvert_exporter": "python",
   "pygments_lexer": "ipython3",
   "version": "3.9.12"
  }
 },
 "nbformat": 4,
 "nbformat_minor": 5
}
